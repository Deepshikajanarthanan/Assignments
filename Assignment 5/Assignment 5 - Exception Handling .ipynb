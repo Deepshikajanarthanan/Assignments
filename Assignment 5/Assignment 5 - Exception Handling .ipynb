{
 "cells": [
  {
   "cell_type": "markdown",
   "metadata": {},
   "source": [
    "1. Write a function to compute 5/0 and use try/except to catch exceptions"
   ]
  },
  {
   "cell_type": "code",
   "execution_count": 1,
   "metadata": {},
   "outputs": [],
   "source": [
    "def division(x, y):\n",
    "    try:\n",
    "        result = x / y\n",
    "        print(\"The answer is :\", result)\n",
    "    except ZeroDivisionError:\n",
    "        print(\"Cannot divide the number by zero\")\n",
    "\n",
    "        \n",
    "division(5, 0)"
   ]
  },
  {
   "cell_type": "markdown",
   "metadata": {},
   "source": [
    "2. Write a Python program to generate all the sentences where subject is in [\"Americans\",\"Indians\"] and verb is in [\"Play\",\"Watch\"] and the object is in [\"Baseball\",\"cricket\"]\n",
    "\n",
    "Hint : Subject,Verb and Object should be declared in the program as shown below.\n",
    "\n",
    "subjects = [\"Americans\",\"Indians\"]<br />\n",
    "verbs = [\"plays\",\"watch\"] <br />\n",
    "objects = [\"Baseball\",\"Cricket\"]\n",
    "\n",
    "Output should come as below:\n",
    "\n",
    "Americans play Baseball.<br />\n",
    "Americans play Cricket.<br />\n",
    "Americans watch Baseball.<br />\n",
    "Americans watch Cricket.<br />\n",
    "Indians play Baseball.<br />\n",
    "Indians play Cricket.<br />\n",
    "Indians watch Baseball.<br />\n",
    "Indians watch Cricket."
   ]
  },
  {
   "cell_type": "code",
   "execution_count": 2,
   "metadata": {},
   "outputs": [
    {
     "name": "stdout",
     "output_type": "stream",
     "text": [
      "Americans play Baseball.\n",
      "Americans play Cricket.\n",
      "Americans watch Baseball.\n",
      "Americans watch Cricket.\n",
      "Indians play Baseball.\n",
      "Indians play Cricket.\n",
      "Indians watch Baseball.\n",
      "Indians watch Cricket.\n"
     ]
    }
   ],
   "source": [
    "subjects=[\"Americans\", \"Indians\"]\n",
    "verbs=[\"play\", \"watch\"]\n",
    "objects=[\"Baseball\",\"Cricket\"]\n",
    "\n",
    "sentences = [(sub+\" \"+ vb + \" \" + ob + \".\") for sub in subjects for vb in verbs for ob in objects]\n",
    "for sentence in sentences:\n",
    "    print (sentence)"
   ]
  },
  {
   "cell_type": "code",
   "execution_count": null,
   "metadata": {},
   "outputs": [],
   "source": []
  }
 ],
 "metadata": {
  "kernelspec": {
   "display_name": "Python 3",
   "language": "python",
   "name": "python3"
  },
  "language_info": {
   "codemirror_mode": {
    "name": "ipython",
    "version": 3
   },
   "file_extension": ".py",
   "mimetype": "text/x-python",
   "name": "python",
   "nbconvert_exporter": "python",
   "pygments_lexer": "ipython3",
   "version": "3.7.4"
  }
 },
 "nbformat": 4,
 "nbformat_minor": 2
}
