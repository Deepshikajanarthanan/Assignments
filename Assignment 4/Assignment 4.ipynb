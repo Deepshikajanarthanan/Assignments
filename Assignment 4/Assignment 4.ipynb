{
 "cells": [
  {
   "cell_type": "markdown",
   "metadata": {},
   "source": [
    "1.1 Write a program (with class concepts) to find the area of the triangle using the below formula \n",
    "\n",
    "area = (s*(s-a)*(s-b)*(s-c))**0.5\n",
    "\n",
    "Function to take the length of the sides of the triangle from user should be defined in the parent class and function to calculate the area shoud be defined in the sub class "
   ]
  },
  {
   "cell_type": "code",
   "execution_count": 47,
   "metadata": {},
   "outputs": [
    {
     "name": "stdout",
     "output_type": "stream",
     "text": [
      "Enter the side1 of triangle 3\n",
      "Enter the side2 of triangle 4\n",
      "Enter the side3 of triangle 5\n",
      "Area of triangle = 6.0\n"
     ]
    }
   ],
   "source": [
    "class Triangle_parent:\n",
    "    def __init__(self, side1, side2, side3):\n",
    "        self.side1 = int(side1)\n",
    "        self.side2 = int(side2)\n",
    "        self.side3 = int(side3)\n",
    "\n",
    "class Triangle_child(Triangle_parent):\n",
    "    def __init__(self, side1, side2, side3):\n",
    "        super(Triangle_child, self).__init__(side1, side2, side3)\n",
    "    def area_of_triangle(self):\n",
    "        s = (self.side1 + self.side2 + self.side3)/2\n",
    "        return (s*(s-self.side1)*(s-self.side2)*(s-self.side3))**0.5\n",
    "\n",
    "\n",
    "\n",
    "side1 = input('Enter the side1 of triangle ')\n",
    "side2 = input('Enter the side2 of triangle ')\n",
    "side3 = input('Enter the side3 of triangle ')\n",
    "sides = Triangle_child(side1,side2,side3)\n",
    "print (\"Area of triangle = \" + str(sides.area_of_triangle()))"
   ]
  },
  {
   "cell_type": "markdown",
   "metadata": {},
   "source": [
    "1.2 Write a function filter_long_words() that takes a list of words and an integer n and returns the list of words that are longer than n"
   ]
  },
  {
   "cell_type": "code",
   "execution_count": 18,
   "metadata": {},
   "outputs": [
    {
     "name": "stdout",
     "output_type": "stream",
     "text": [
      "['efghi', 'lmnopqr', 'vwxyz']\n"
     ]
    }
   ],
   "source": [
    "def filter_long_words(lst,n):\n",
    "    lst1=[]\n",
    "    for i in lst:\n",
    "        if len(i) > n:\n",
    "            lst1.append(i)        \n",
    "    return lst1\n",
    "    \n",
    "result = filter_long_words(['abc','efghi','jk','lmnopqr','stu','vwxyz'],4)\n",
    "print(result)"
   ]
  },
  {
   "cell_type": "markdown",
   "metadata": {},
   "source": [
    "2.1 Write a python program program using function concept that maps list of words into list of integers representing the lengths of corresponding words\n",
    "\n",
    "Hint: If a list [ab,cde,erty] is passed on to the python function output should come as [2,3,4]\n",
    "\n",
    "Here 2,3,4 are the length of the words in the list "
   ]
  },
  {
   "cell_type": "code",
   "execution_count": 20,
   "metadata": {},
   "outputs": [
    {
     "name": "stdout",
     "output_type": "stream",
     "text": [
      "[2, 3, 4]\n"
     ]
    }
   ],
   "source": [
    "def list_length(lst):\n",
    "    list_len = []\n",
    "    for i in lst:\n",
    "        list_len.append(len(i))\n",
    "    return list_len\n",
    "\n",
    "result = list_length(['ab','cde','erty'])\n",
    "print(result)"
   ]
  },
  {
   "cell_type": "markdown",
   "metadata": {},
   "source": [
    "2.2 Write a python function which takes the character (i.e a string of length 1) and returns True if it is a vowel , False otherwise "
   ]
  },
  {
   "cell_type": "code",
   "execution_count": 3,
   "metadata": {},
   "outputs": [
    {
     "name": "stdout",
     "output_type": "stream",
     "text": [
      "Enter a character:b\n",
      "False\n"
     ]
    }
   ],
   "source": [
    "def is_vowel(char):\n",
    "    vowels = ['a', 'e', 'i', 'o', 'u']\n",
    "    if char not in vowels:\n",
    "        return False\n",
    "    return True\n",
    "    \n",
    "a = is_vowel(str(input(\"Enter a character:\")))\n",
    "print(a)"
   ]
  },
  {
   "cell_type": "code",
   "execution_count": null,
   "metadata": {},
   "outputs": [],
   "source": []
  },
  {
   "cell_type": "code",
   "execution_count": null,
   "metadata": {},
   "outputs": [],
   "source": []
  }
 ],
 "metadata": {
  "kernelspec": {
   "display_name": "Python 3",
   "language": "python",
   "name": "python3"
  },
  "language_info": {
   "codemirror_mode": {
    "name": "ipython",
    "version": 3
   },
   "file_extension": ".py",
   "mimetype": "text/x-python",
   "name": "python",
   "nbconvert_exporter": "python",
   "pygments_lexer": "ipython3",
   "version": "3.7.4"
  }
 },
 "nbformat": 4,
 "nbformat_minor": 2
}
